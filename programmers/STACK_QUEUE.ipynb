{
 "cells": [
  {
   "cell_type": "markdown",
   "metadata": {},
   "source": [
    "# 주식가격"
   ]
  },
  {
   "cell_type": "code",
   "execution_count": 12,
   "metadata": {},
   "outputs": [],
   "source": [
    "prices = [1,2,3,2,3]"
   ]
  },
  {
   "cell_type": "code",
   "execution_count": 4,
   "metadata": {
    "scrolled": true
   },
   "outputs": [
    {
     "name": "stdout",
     "output_type": "stream",
     "text": [
      "[4, 3, 1, 1]\n"
     ]
    }
   ],
   "source": [
    "result = []\n",
    "for i in range(len(prices)-1):\n",
    "    sec = len(prices[i+1:])\n",
    "    for j in range(i+1, len(prices)):\n",
    "        if prices[i] > prices[j] :\n",
    "            sec = j - i\n",
    "            break\n",
    "    result.append(sec)\n",
    "    \n",
    "result.append(0)\n",
    "print(result)\n",
    "# 효율성 탈락"
   ]
  },
  {
   "cell_type": "code",
   "execution_count": 13,
   "metadata": {},
   "outputs": [
    {
     "name": "stdout",
     "output_type": "stream",
     "text": [
      "[4, 3, 1, 1, 0]\n"
     ]
    }
   ],
   "source": [
    "def solution(prices):\n",
    "    result = [0] * len(prices)\n",
    "    for i in range(len(prices)-1):\n",
    "        for j in range(i+1, len(prices)):\n",
    "            result[i] += 1\n",
    "            if prices[i] > prices[j] :\n",
    "                break\n",
    "\n",
    "    return result"
   ]
  },
  {
   "cell_type": "markdown",
   "metadata": {},
   "source": [
    "# 다리를 지나는 트럭"
   ]
  },
  {
   "cell_type": "code",
   "execution_count": null,
   "metadata": {},
   "outputs": [],
   "source": []
  }
 ],
 "metadata": {
  "kernelspec": {
   "display_name": "Python 3",
   "language": "python",
   "name": "python3"
  },
  "language_info": {
   "codemirror_mode": {
    "name": "ipython",
    "version": 3
   },
   "file_extension": ".py",
   "mimetype": "text/x-python",
   "name": "python",
   "nbconvert_exporter": "python",
   "pygments_lexer": "ipython3",
   "version": "3.7.6"
  }
 },
 "nbformat": 4,
 "nbformat_minor": 4
}
