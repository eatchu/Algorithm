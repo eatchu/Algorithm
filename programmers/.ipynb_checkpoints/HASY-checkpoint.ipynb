{
 "cells": [
  {
   "cell_type": "markdown",
   "metadata": {},
   "source": [
    "# 완주하지 못한 선수"
   ]
  },
  {
   "cell_type": "code",
   "execution_count": 31,
   "metadata": {},
   "outputs": [],
   "source": [
    "participant = ['leo', 'kiki', 'eden']\n",
    "completion = ['eden', 'kiki']"
   ]
  },
  {
   "cell_type": "code",
   "execution_count": 18,
   "metadata": {},
   "outputs": [
    {
     "data": {
      "text/plain": [
       "'mislav'"
      ]
     },
     "execution_count": 18,
     "metadata": {},
     "output_type": "execute_result"
    }
   ],
   "source": [
    "# Counter 함수 사용 (dictionary)\n",
    "def solution(participant,completion):\n",
    "    from collections import Counter\n",
    "    return list((Counter(participant) - Counter(completion)))[0]\n",
    "solution(participant,completion) # \"leo\"\n",
    "solution(['mislav', 'stanko', 'mislav', 'ana'],['stanko', 'ana', 'mislav'])"
   ]
  },
  {
   "cell_type": "code",
   "execution_count": 32,
   "metadata": {},
   "outputs": [
    {
     "data": {
      "text/plain": [
       "'leo'"
      ]
     },
     "execution_count": 32,
     "metadata": {},
     "output_type": "execute_result"
    }
   ],
   "source": [
    "# 함수 사용 x (hash 사용)\n",
    "participant = ['mislav', 'stanko', 'mislav', 'ana']\n",
    "completion = ['stanko', 'ana', 'mislav']\n",
    "\n",
    "def solution(participant,completion):\n",
    "    result = sum([hash(i) for i in participant]) - sum([hash(i) for i in completion])\n",
    "    idx = [hash(i) for i in participant].index(result)\n",
    "    return participant[idx]"
   ]
  },
  {
   "cell_type": "markdown",
   "metadata": {},
   "source": [
    "# 전화번호 목록"
   ]
  },
  {
   "cell_type": "code",
   "execution_count": 5,
   "metadata": {},
   "outputs": [
    {
     "data": {
      "text/plain": [
       "False"
      ]
     },
     "execution_count": 5,
     "metadata": {},
     "output_type": "execute_result"
    }
   ],
   "source": [
    "phone_book = ['97674223','119','1195524421'] # false\n",
    "#phone_book = ['123','456','789'] # true\n",
    "#phone_book = ['12','123','1235','567','88'] # false\n",
    "\n",
    "def solution(phone_book):\n",
    "    phone_book.sort(key = lambda x : int(x))\n",
    "    num = len(phone_book[0])\n",
    "    lst = []\n",
    "    \n",
    "    for i in phone_book:\n",
    "         if i[:num] not in lst:\n",
    "                lst.append(i[:num])\n",
    "         else : return False\n",
    "\n",
    "    return True\n",
    "\n",
    "solution(phone_book)        "
   ]
  },
  {
   "cell_type": "markdown",
   "metadata": {},
   "source": [
    "# 베스트앨범"
   ]
  },
  {
   "cell_type": "code",
   "execution_count": 41,
   "metadata": {},
   "outputs": [],
   "source": [
    "genres = ['classic', 'pop', 'classic', 'classic', 'pop']\n",
    "plays = [500, 600, 150, 800, 2500]\n",
    "\n",
    "#genres = ['a', 'b', ' c','d', 'e',' f']\n",
    "#plays = [1,2,3,4,5,6]"
   ]
  },
  {
   "cell_type": "code",
   "execution_count": 39,
   "metadata": {},
   "outputs": [
    {
     "name": "stdout",
     "output_type": "stream",
     "text": [
      "{'a': 1, 'b': 2, ' c': 3, 'd': 4, 'e': 5, ' f': 6}\n",
      "[[5, 6]]\n",
      "[[4, 5]]\n",
      "[[3, 4]]\n",
      "[[2, 3]]\n",
      "[[1, 2]]\n",
      "[[0, 1]]\n",
      "[5, 4, 3, 2, 1, 0]\n"
     ]
    }
   ],
   "source": [
    "def solution(genres, plays):\n",
    "    \n",
    "    dic = {}\n",
    "    for a,b in zip(genres,plays):\n",
    "        dic[a] = dic.get(a, 0) + b\n",
    "\n",
    "    result = []\n",
    "    while dic:\n",
    "        max_genre = max(dic, key=lambda k: dic[k])\n",
    "        lst = []\n",
    "\n",
    "        for idx in range(len(genres)):\n",
    "            if genres[idx] == max_genre :\n",
    "                lst.append([idx,plays[idx]])\n",
    "        lst.sort(key = lambda x : x[1], reverse = True)\n",
    "\n",
    "        for i in lst[:2]:\n",
    "            result.append(i[0])\n",
    "\n",
    "        dic.pop(max_genre)\n",
    "\n",
    "    return result"
   ]
  },
  {
   "cell_type": "code",
   "execution_count": 44,
   "metadata": {},
   "outputs": [
    {
     "name": "stdout",
     "output_type": "stream",
     "text": [
      "{'classic': [], 'pop': []}\n",
      "{'classic': [[500, 0], [150, 2], [800, 3]], 'pop': [[600, 1], [2500, 4]]}\n",
      "['pop', 'classic']\n"
     ]
    }
   ],
   "source": [
    "\n",
    "\n",
    "answer = []\n",
    "d = {e:[] for e in set(genres)}\n",
    "print(d)\n",
    "for e in zip(genres, plays, range(len(plays))):\n",
    "    d[e[0]].append([e[1] , e[2]])\n",
    "print(d)\n",
    "genreSort =sorted(list(d.keys()), key= lambda x: sum( map(lambda y: y[0],d[x])), reverse = True)\n",
    "print(genreSort)\n",
    "for g in genreSort:\n",
    "    temp = [e[1] for e in sorted(d[g],key= lambda x: (x[0], -x[1]), reverse = True)]\n",
    "    answer += temp[:min(len(temp),2)]\n",
    "\n",
    "    "
   ]
  }
 ],
 "metadata": {
  "kernelspec": {
   "display_name": "Python 3",
   "language": "python",
   "name": "python3"
  },
  "language_info": {
   "codemirror_mode": {
    "name": "ipython",
    "version": 3
   },
   "file_extension": ".py",
   "mimetype": "text/x-python",
   "name": "python",
   "nbconvert_exporter": "python",
   "pygments_lexer": "ipython3",
   "version": "3.7.6"
  }
 },
 "nbformat": 4,
 "nbformat_minor": 4
}
